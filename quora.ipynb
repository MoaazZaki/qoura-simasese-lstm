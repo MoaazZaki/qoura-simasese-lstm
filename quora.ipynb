{
  "nbformat": 4,
  "nbformat_minor": 0,
  "metadata": {
    "colab": {
      "name": "quora.ipynb",
      "provenance": []
    },
    "kernelspec": {
      "name": "python3",
      "display_name": "Python 3"
    },
    "language_info": {
      "name": "python"
    },
    "accelerator": "GPU"
  },
  "cells": [
    {
      "cell_type": "code",
      "metadata": {
        "id": "A58fXZzE5L3X"
      },
      "source": [
        "import numpy as np\n",
        "import matplotlib.pyplot as plt\n",
        "import seaborn as sns\n",
        "import pandas as pd\n",
        "sns.set(color_codes=True)"
      ],
      "execution_count": null,
      "outputs": []
    },
    {
      "cell_type": "code",
      "metadata": {
        "colab": {
          "base_uri": "https://localhost:8080/"
        },
        "id": "y43h9XZw5kMc",
        "outputId": "50de13cf-5e47-4f77-c70c-1db2a786a0e0"
      },
      "source": [
        "from google.colab import drive\n",
        "drive.mount('/content/drive')"
      ],
      "execution_count": null,
      "outputs": [
        {
          "output_type": "stream",
          "text": [
            "Mounted at /content/drive\n"
          ],
          "name": "stdout"
        }
      ]
    },
    {
      "cell_type": "markdown",
      "metadata": {
        "id": "XuO5xf5BPDLU"
      },
      "source": [
        "# Loading and Exploration"
      ]
    },
    {
      "cell_type": "code",
      "metadata": {
        "colab": {
          "base_uri": "https://localhost:8080/"
        },
        "id": "Jqyolyl78hXq",
        "outputId": "33ea05d4-5c0c-4347-b23e-58170319d26a"
      },
      "source": [
        "df = pd.read_csv('/content/drive/MyDrive/machathon_preperation/quora/train.csv')\n",
        "df"
      ],
      "execution_count": null,
      "outputs": [
        {
          "output_type": "execute_result",
          "data": {
            "text/html": [
              "<div>\n",
              "<style scoped>\n",
              "    .dataframe tbody tr th:only-of-type {\n",
              "        vertical-align: middle;\n",
              "    }\n",
              "\n",
              "    .dataframe tbody tr th {\n",
              "        vertical-align: top;\n",
              "    }\n",
              "\n",
              "    .dataframe thead th {\n",
              "        text-align: right;\n",
              "    }\n",
              "</style>\n",
              "<table border=\"1\" class=\"dataframe\">\n",
              "  <thead>\n",
              "    <tr style=\"text-align: right;\">\n",
              "      <th></th>\n",
              "      <th>id</th>\n",
              "      <th>qid1</th>\n",
              "      <th>qid2</th>\n",
              "      <th>question1</th>\n",
              "      <th>question2</th>\n",
              "      <th>is_duplicate</th>\n",
              "    </tr>\n",
              "  </thead>\n",
              "  <tbody>\n",
              "    <tr>\n",
              "      <th>0</th>\n",
              "      <td>0</td>\n",
              "      <td>1</td>\n",
              "      <td>2</td>\n",
              "      <td>What is the step by step guide to invest in sh...</td>\n",
              "      <td>What is the step by step guide to invest in sh...</td>\n",
              "      <td>0</td>\n",
              "    </tr>\n",
              "    <tr>\n",
              "      <th>1</th>\n",
              "      <td>1</td>\n",
              "      <td>3</td>\n",
              "      <td>4</td>\n",
              "      <td>What is the story of Kohinoor (Koh-i-Noor) Dia...</td>\n",
              "      <td>What would happen if the Indian government sto...</td>\n",
              "      <td>0</td>\n",
              "    </tr>\n",
              "    <tr>\n",
              "      <th>2</th>\n",
              "      <td>2</td>\n",
              "      <td>5</td>\n",
              "      <td>6</td>\n",
              "      <td>How can I increase the speed of my internet co...</td>\n",
              "      <td>How can Internet speed be increased by hacking...</td>\n",
              "      <td>0</td>\n",
              "    </tr>\n",
              "    <tr>\n",
              "      <th>3</th>\n",
              "      <td>3</td>\n",
              "      <td>7</td>\n",
              "      <td>8</td>\n",
              "      <td>Why am I mentally very lonely? How can I solve...</td>\n",
              "      <td>Find the remainder when [math]23^{24}[/math] i...</td>\n",
              "      <td>0</td>\n",
              "    </tr>\n",
              "    <tr>\n",
              "      <th>4</th>\n",
              "      <td>4</td>\n",
              "      <td>9</td>\n",
              "      <td>10</td>\n",
              "      <td>Which one dissolve in water quikly sugar, salt...</td>\n",
              "      <td>Which fish would survive in salt water?</td>\n",
              "      <td>0</td>\n",
              "    </tr>\n",
              "    <tr>\n",
              "      <th>...</th>\n",
              "      <td>...</td>\n",
              "      <td>...</td>\n",
              "      <td>...</td>\n",
              "      <td>...</td>\n",
              "      <td>...</td>\n",
              "      <td>...</td>\n",
              "    </tr>\n",
              "    <tr>\n",
              "      <th>404285</th>\n",
              "      <td>404285</td>\n",
              "      <td>433578</td>\n",
              "      <td>379845</td>\n",
              "      <td>How many keywords are there in the Racket prog...</td>\n",
              "      <td>How many keywords are there in PERL Programmin...</td>\n",
              "      <td>0</td>\n",
              "    </tr>\n",
              "    <tr>\n",
              "      <th>404286</th>\n",
              "      <td>404286</td>\n",
              "      <td>18840</td>\n",
              "      <td>155606</td>\n",
              "      <td>Do you believe there is life after death?</td>\n",
              "      <td>Is it true that there is life after death?</td>\n",
              "      <td>1</td>\n",
              "    </tr>\n",
              "    <tr>\n",
              "      <th>404287</th>\n",
              "      <td>404287</td>\n",
              "      <td>537928</td>\n",
              "      <td>537929</td>\n",
              "      <td>What is one coin?</td>\n",
              "      <td>What's this coin?</td>\n",
              "      <td>0</td>\n",
              "    </tr>\n",
              "    <tr>\n",
              "      <th>404288</th>\n",
              "      <td>404288</td>\n",
              "      <td>537930</td>\n",
              "      <td>537931</td>\n",
              "      <td>What is the approx annual cost of living while...</td>\n",
              "      <td>I am having little hairfall problem but I want...</td>\n",
              "      <td>0</td>\n",
              "    </tr>\n",
              "    <tr>\n",
              "      <th>404289</th>\n",
              "      <td>404289</td>\n",
              "      <td>537932</td>\n",
              "      <td>537933</td>\n",
              "      <td>What is like to have sex with cousin?</td>\n",
              "      <td>What is it like to have sex with your cousin?</td>\n",
              "      <td>0</td>\n",
              "    </tr>\n",
              "  </tbody>\n",
              "</table>\n",
              "<p>404290 rows × 6 columns</p>\n",
              "</div>"
            ],
            "text/plain": [
              "            id  ...  is_duplicate\n",
              "0            0  ...             0\n",
              "1            1  ...             0\n",
              "2            2  ...             0\n",
              "3            3  ...             0\n",
              "4            4  ...             0\n",
              "...        ...  ...           ...\n",
              "404285  404285  ...             0\n",
              "404286  404286  ...             1\n",
              "404287  404287  ...             0\n",
              "404288  404288  ...             0\n",
              "404289  404289  ...             0\n",
              "\n",
              "[404290 rows x 6 columns]"
            ]
          },
          "metadata": {
            "tags": []
          },
          "execution_count": 3
        }
      ]
    },
    {
      "cell_type": "code",
      "metadata": {
        "colab": {
          "base_uri": "https://localhost:8080/"
        },
        "id": "viKQ0KqfJQy9",
        "outputId": "8568287e-3d79-4da1-aff2-f719699533f2"
      },
      "source": [
        "[i for i in df['question1'].iloc[::10000]]"
      ],
      "execution_count": null,
      "outputs": [
        {
          "output_type": "execute_result",
          "data": {
            "text/plain": [
              "['What is the step by step guide to invest in share market in india?',\n",
              " 'Is it safe for a woman to travel alone in Vietnam?',\n",
              " 'What are the features of the Indian caste system?',\n",
              " \"I am in my late 20's and I look older than I am. Need suggestions on best skincare products I can buy to begin with?\",\n",
              " 'How should I start learning Python?',\n",
              " 'Why is human cloning considered unethical?',\n",
              " 'How do iPads get viruses?',\n",
              " 'What are some cake ideas for a teenager?',\n",
              " 'How do I recover deleted files in an Android?',\n",
              " 'What is the best Hollywood movie of 2016 and why?',\n",
              " 'What should I ask my friend to get from UK to India?',\n",
              " 'What are some ways to become an entrepreneur?',\n",
              " 'I want to become a billionaire, how do I become one?',\n",
              " 'Why has Hong Kong taken so long to return Singapore Terrex vehicle?',\n",
              " 'Is it good to put CVT transmissions in an off-road car?',\n",
              " 'How do I make my hair grow faster in 2 months?',\n",
              " 'What possible career would you get from graduating AB/BA Philosophy?',\n",
              " 'What is labour welfare fund?',\n",
              " 'How do I find a spiritual guru in Louisiana?',\n",
              " 'Which is the best Seo optimization services in India?',\n",
              " 'Can Pakistan hit Indian air craft carrier in Arabian sea in case of a war between two nations? PS: PAF once breached US carrier defences in exercise.',\n",
              " 'Would my message say delivered if I was blocked on badoo?',\n",
              " 'How can I get over someone I loved?',\n",
              " 'How long does meth stay detectable in the body through testing?',\n",
              " 'What is the truth of life?',\n",
              " 'Who would win in a war between Russia and the US?',\n",
              " 'What is that one decision that changed your life forever?',\n",
              " 'Which movies had real sex on it?',\n",
              " \"How is the word 'temerity' used in a sentence?\",\n",
              " 'What are the effects of demonitization of 500 and 1000 rupees notes on real estate sector?',\n",
              " 'What were some of the troubles you have faced during and after your 9 months period of pregnancy?',\n",
              " 'What is the poorest country in Asia, and how does its death rate compare to the poorest country in America?',\n",
              " 'Which credit union, operating in San Francisco, has the best online interface and functionality?',\n",
              " 'Which channel of Star Sports will broadcast EPL 2016-17?',\n",
              " 'How should I think if I want to do everything?',\n",
              " 'Can I give my dog Benadryl for his allergies?',\n",
              " 'What does the typical French house look like?',\n",
              " 'Does Israel have a movie industry? Who are the famous ones?',\n",
              " 'How does one find new friends in Albuquerque?',\n",
              " 'What should I gift my boyfriend for Christmas?',\n",
              " 'Can WordPress be used to create a site like thetoptens.com?']"
            ]
          },
          "metadata": {
            "tags": []
          },
          "execution_count": 4
        }
      ]
    },
    {
      "cell_type": "code",
      "metadata": {
        "colab": {
          "base_uri": "https://localhost:8080/"
        },
        "id": "QACxqlsyJr76",
        "outputId": "bc9e9c67-d4d8-4438-ec38-0bb6ee3b0028"
      },
      "source": [
        "[i for i in df['question2'].iloc[::10000]]"
      ],
      "execution_count": null,
      "outputs": [
        {
          "output_type": "execute_result",
          "data": {
            "text/plain": [
              "['What is the step by step guide to invest in share market?',\n",
              " 'Is it safe for a woman to travel alone in Japan?',\n",
              " 'What triggers you the most when you play video games?',\n",
              " \"Is domino's pizza halal?\",\n",
              " 'How should I start learning Python for Data Science?',\n",
              " 'Why is cloning considered unethical?',\n",
              " 'How do you get rid of a virus on an iPhone?',\n",
              " 'What are some teenage cake ideas?',\n",
              " 'How do I recover deleted files on an Android phone or tablet?',\n",
              " 'Which are the best Hollywood movies of 2016?',\n",
              " 'What is the process of getting a surgical residency in UK after completing MBBS from India?',\n",
              " 'How do I become an entrepreneur?',\n",
              " 'How can I become a billionaire?',\n",
              " 'What is it like to grow up in Japan, SIngapore and Hong Kong?',\n",
              " 'Which is a good car in the range of 2-3lacs on Delhi road?',\n",
              " 'How do I grow my hair really fast and easiest way?',\n",
              " 'What are the career options after graduating with a B.A. in philosophy?',\n",
              " 'Is welfare a citizenship right?',\n",
              " 'How do you find a Spiritual Guru?',\n",
              " 'What is the best SEO management company in India?',\n",
              " 'Can Pakistan destroy an Indian aircraft carrier during a war?',\n",
              " 'What does it look like when someone blocks you on badoo?',\n",
              " 'How do I best way to get over an ex?',\n",
              " 'Taking meth through the rectal, is it a better high?',\n",
              " \"What's the evil truth of life?\",\n",
              " 'Who would win a war out of the United States and Russia?',\n",
              " 'What is that one incident that changed your life for better?',\n",
              " 'Which movie had the first same-sex kiss?',\n",
              " \"How is the word 'although' used in a sentence?\",\n",
              " 'How will abolishing Rs. 500 and Rs. 1000 notes affect the real estate businesses in India?',\n",
              " 'What is the difference between neural circuit and neural system?',\n",
              " 'What is the poorest country in Asia, and how does its death rate compare to the poorest country in Oceania?',\n",
              " 'What is the most technologically advanced credit union in San Francisco?',\n",
              " 'Which teams are likely to win EPL 2016_2017?',\n",
              " 'What if you want to do everything?',\n",
              " 'How can you give dogs Benadryl to calm them down?',\n",
              " 'What does the typical Finnish house look like?',\n",
              " 'Does Israel have a movie industry?',\n",
              " 'How do I compare Albuquerque New Mexico to Phoenix AZ?',\n",
              " 'What should I gift to my girlfriend for Christmas?',\n",
              " 'Can WordPress be used to create a site like Reddit?']"
            ]
          },
          "metadata": {
            "tags": []
          },
          "execution_count": 5
        }
      ]
    },
    {
      "cell_type": "code",
      "metadata": {
        "colab": {
          "base_uri": "https://localhost:8080/"
        },
        "id": "d6yx9auSKBHa",
        "outputId": "7357420e-c48b-4534-8f32-f34c45143af9"
      },
      "source": [
        "df[df['qid1'] == 18840]"
      ],
      "execution_count": null,
      "outputs": [
        {
          "output_type": "execute_result",
          "data": {
            "text/html": [
              "<div>\n",
              "<style scoped>\n",
              "    .dataframe tbody tr th:only-of-type {\n",
              "        vertical-align: middle;\n",
              "    }\n",
              "\n",
              "    .dataframe tbody tr th {\n",
              "        vertical-align: top;\n",
              "    }\n",
              "\n",
              "    .dataframe thead th {\n",
              "        text-align: right;\n",
              "    }\n",
              "</style>\n",
              "<table border=\"1\" class=\"dataframe\">\n",
              "  <thead>\n",
              "    <tr style=\"text-align: right;\">\n",
              "      <th></th>\n",
              "      <th>id</th>\n",
              "      <th>qid1</th>\n",
              "      <th>qid2</th>\n",
              "      <th>question1</th>\n",
              "      <th>question2</th>\n",
              "      <th>is_duplicate</th>\n",
              "    </tr>\n",
              "  </thead>\n",
              "  <tbody>\n",
              "    <tr>\n",
              "      <th>9701</th>\n",
              "      <td>9701</td>\n",
              "      <td>18840</td>\n",
              "      <td>18841</td>\n",
              "      <td>Do you believe there is life after death?</td>\n",
              "      <td>Do you believe in life after death?</td>\n",
              "      <td>1</td>\n",
              "    </tr>\n",
              "    <tr>\n",
              "      <th>15933</th>\n",
              "      <td>15933</td>\n",
              "      <td>18840</td>\n",
              "      <td>30400</td>\n",
              "      <td>Do you believe there is life after death?</td>\n",
              "      <td>Do you believe there is death after life?</td>\n",
              "      <td>0</td>\n",
              "    </tr>\n",
              "    <tr>\n",
              "      <th>72711</th>\n",
              "      <td>72711</td>\n",
              "      <td>18840</td>\n",
              "      <td>124883</td>\n",
              "      <td>Do you believe there is life after death?</td>\n",
              "      <td>How would life be after death?</td>\n",
              "      <td>1</td>\n",
              "    </tr>\n",
              "    <tr>\n",
              "      <th>90262</th>\n",
              "      <td>90262</td>\n",
              "      <td>18840</td>\n",
              "      <td>49658</td>\n",
              "      <td>Do you believe there is life after death?</td>\n",
              "      <td>What does life after death look like?</td>\n",
              "      <td>1</td>\n",
              "    </tr>\n",
              "    <tr>\n",
              "      <th>119781</th>\n",
              "      <td>119781</td>\n",
              "      <td>18840</td>\n",
              "      <td>88678</td>\n",
              "      <td>Do you believe there is life after death?</td>\n",
              "      <td>What are the theories as to what happens after...</td>\n",
              "      <td>1</td>\n",
              "    </tr>\n",
              "    <tr>\n",
              "      <th>190902</th>\n",
              "      <td>190902</td>\n",
              "      <td>18840</td>\n",
              "      <td>113929</td>\n",
              "      <td>Do you believe there is life after death?</td>\n",
              "      <td>If there is life after death, why do I live?</td>\n",
              "      <td>1</td>\n",
              "    </tr>\n",
              "    <tr>\n",
              "      <th>232572</th>\n",
              "      <td>232572</td>\n",
              "      <td>18840</td>\n",
              "      <td>59735</td>\n",
              "      <td>Do you believe there is life after death?</td>\n",
              "      <td>Can we ever know if there is life after death?</td>\n",
              "      <td>1</td>\n",
              "    </tr>\n",
              "    <tr>\n",
              "      <th>262681</th>\n",
              "      <td>262681</td>\n",
              "      <td>18840</td>\n",
              "      <td>133237</td>\n",
              "      <td>Do you believe there is life after death?</td>\n",
              "      <td>Is there life after death?</td>\n",
              "      <td>1</td>\n",
              "    </tr>\n",
              "    <tr>\n",
              "      <th>269565</th>\n",
              "      <td>269565</td>\n",
              "      <td>18840</td>\n",
              "      <td>75205</td>\n",
              "      <td>Do you believe there is life after death?</td>\n",
              "      <td>Is there life after death? Can we revive our l...</td>\n",
              "      <td>1</td>\n",
              "    </tr>\n",
              "    <tr>\n",
              "      <th>364460</th>\n",
              "      <td>364460</td>\n",
              "      <td>18840</td>\n",
              "      <td>92133</td>\n",
              "      <td>Do you believe there is life after death?</td>\n",
              "      <td>What is the life after death.?</td>\n",
              "      <td>1</td>\n",
              "    </tr>\n",
              "    <tr>\n",
              "      <th>373708</th>\n",
              "      <td>373708</td>\n",
              "      <td>18840</td>\n",
              "      <td>113928</td>\n",
              "      <td>Do you believe there is life after death?</td>\n",
              "      <td>Is there life after life?</td>\n",
              "      <td>1</td>\n",
              "    </tr>\n",
              "    <tr>\n",
              "      <th>404286</th>\n",
              "      <td>404286</td>\n",
              "      <td>18840</td>\n",
              "      <td>155606</td>\n",
              "      <td>Do you believe there is life after death?</td>\n",
              "      <td>Is it true that there is life after death?</td>\n",
              "      <td>1</td>\n",
              "    </tr>\n",
              "  </tbody>\n",
              "</table>\n",
              "</div>"
            ],
            "text/plain": [
              "            id  ...  is_duplicate\n",
              "9701      9701  ...             1\n",
              "15933    15933  ...             0\n",
              "72711    72711  ...             1\n",
              "90262    90262  ...             1\n",
              "119781  119781  ...             1\n",
              "190902  190902  ...             1\n",
              "232572  232572  ...             1\n",
              "262681  262681  ...             1\n",
              "269565  269565  ...             1\n",
              "364460  364460  ...             1\n",
              "373708  373708  ...             1\n",
              "404286  404286  ...             1\n",
              "\n",
              "[12 rows x 6 columns]"
            ]
          },
          "metadata": {
            "tags": []
          },
          "execution_count": 6
        }
      ]
    },
    {
      "cell_type": "code",
      "metadata": {
        "colab": {
          "base_uri": "https://localhost:8080/"
        },
        "id": "gDE_OKmBKcF3",
        "outputId": "32d317e2-43d6-4bcb-b738-a661db90b1ca"
      },
      "source": [
        "df[df['qid1'] == 18841] #18841 is id that appeared before is qid2"
      ],
      "execution_count": null,
      "outputs": [
        {
          "output_type": "execute_result",
          "data": {
            "text/html": [
              "<div>\n",
              "<style scoped>\n",
              "    .dataframe tbody tr th:only-of-type {\n",
              "        vertical-align: middle;\n",
              "    }\n",
              "\n",
              "    .dataframe tbody tr th {\n",
              "        vertical-align: top;\n",
              "    }\n",
              "\n",
              "    .dataframe thead th {\n",
              "        text-align: right;\n",
              "    }\n",
              "</style>\n",
              "<table border=\"1\" class=\"dataframe\">\n",
              "  <thead>\n",
              "    <tr style=\"text-align: right;\">\n",
              "      <th></th>\n",
              "      <th>id</th>\n",
              "      <th>qid1</th>\n",
              "      <th>qid2</th>\n",
              "      <th>question1</th>\n",
              "      <th>question2</th>\n",
              "      <th>is_duplicate</th>\n",
              "    </tr>\n",
              "  </thead>\n",
              "  <tbody>\n",
              "    <tr>\n",
              "      <th>32444</th>\n",
              "      <td>32444</td>\n",
              "      <td>18841</td>\n",
              "      <td>59735</td>\n",
              "      <td>Do you believe in life after death?</td>\n",
              "      <td>Can we ever know if there is life after death?</td>\n",
              "      <td>1</td>\n",
              "    </tr>\n",
              "    <tr>\n",
              "      <th>49853</th>\n",
              "      <td>49853</td>\n",
              "      <td>18841</td>\n",
              "      <td>88678</td>\n",
              "      <td>Do you believe in life after death?</td>\n",
              "      <td>What are the theories as to what happens after...</td>\n",
              "      <td>1</td>\n",
              "    </tr>\n",
              "    <tr>\n",
              "      <th>51991</th>\n",
              "      <td>51991</td>\n",
              "      <td>18841</td>\n",
              "      <td>92133</td>\n",
              "      <td>Do you believe in life after death?</td>\n",
              "      <td>What is the life after death.?</td>\n",
              "      <td>1</td>\n",
              "    </tr>\n",
              "    <tr>\n",
              "      <th>241249</th>\n",
              "      <td>241249</td>\n",
              "      <td>18841</td>\n",
              "      <td>75205</td>\n",
              "      <td>Do you believe in life after death?</td>\n",
              "      <td>Is there life after death? Can we revive our l...</td>\n",
              "      <td>1</td>\n",
              "    </tr>\n",
              "  </tbody>\n",
              "</table>\n",
              "</div>"
            ],
            "text/plain": [
              "            id  ...  is_duplicate\n",
              "32444    32444  ...             1\n",
              "49853    49853  ...             1\n",
              "51991    51991  ...             1\n",
              "241249  241249  ...             1\n",
              "\n",
              "[4 rows x 6 columns]"
            ]
          },
          "metadata": {
            "tags": []
          },
          "execution_count": 7
        }
      ]
    },
    {
      "cell_type": "markdown",
      "metadata": {
        "id": "Qvf5o0F9Ks67"
      },
      "source": [
        "Each question can appear as first or second in the pair multiple times"
      ]
    },
    {
      "cell_type": "code",
      "metadata": {
        "id": "NMh8MpdAKjuy"
      },
      "source": [
        "df.dropna(inplace=True)"
      ],
      "execution_count": null,
      "outputs": []
    },
    {
      "cell_type": "code",
      "metadata": {
        "colab": {
          "base_uri": "https://localhost:8080/"
        },
        "id": "4dzvhm4WK63U",
        "outputId": "9cdff9b3-f48a-4599-cde0-27c05c50d624"
      },
      "source": [
        "df[df['question1'].apply(lambda x: x.isalpha())]"
      ],
      "execution_count": null,
      "outputs": [
        {
          "output_type": "execute_result",
          "data": {
            "text/html": [
              "<div>\n",
              "<style scoped>\n",
              "    .dataframe tbody tr th:only-of-type {\n",
              "        vertical-align: middle;\n",
              "    }\n",
              "\n",
              "    .dataframe tbody tr th {\n",
              "        vertical-align: top;\n",
              "    }\n",
              "\n",
              "    .dataframe thead th {\n",
              "        text-align: right;\n",
              "    }\n",
              "</style>\n",
              "<table border=\"1\" class=\"dataframe\">\n",
              "  <thead>\n",
              "    <tr style=\"text-align: right;\">\n",
              "      <th></th>\n",
              "      <th>id</th>\n",
              "      <th>qid1</th>\n",
              "      <th>qid2</th>\n",
              "      <th>question1</th>\n",
              "      <th>question2</th>\n",
              "      <th>is_duplicate</th>\n",
              "    </tr>\n",
              "  </thead>\n",
              "  <tbody>\n",
              "    <tr>\n",
              "      <th>17682</th>\n",
              "      <td>17682</td>\n",
              "      <td>33561</td>\n",
              "      <td>33562</td>\n",
              "      <td>deleted</td>\n",
              "      <td>Which website will be suitable for downloading...</td>\n",
              "      <td>0</td>\n",
              "    </tr>\n",
              "    <tr>\n",
              "      <th>23305</th>\n",
              "      <td>23305</td>\n",
              "      <td>33561</td>\n",
              "      <td>43661</td>\n",
              "      <td>deleted</td>\n",
              "      <td>Which are some best websites for downloading n...</td>\n",
              "      <td>0</td>\n",
              "    </tr>\n",
              "    <tr>\n",
              "      <th>23884</th>\n",
              "      <td>23884</td>\n",
              "      <td>44699</td>\n",
              "      <td>44700</td>\n",
              "      <td>HH</td>\n",
              "      <td>What is hh?</td>\n",
              "      <td>0</td>\n",
              "    </tr>\n",
              "    <tr>\n",
              "      <th>25315</th>\n",
              "      <td>25315</td>\n",
              "      <td>47198</td>\n",
              "      <td>29712</td>\n",
              "      <td>deleted</td>\n",
              "      <td>What kind of questions on Quora aren't OK? Wha...</td>\n",
              "      <td>0</td>\n",
              "    </tr>\n",
              "    <tr>\n",
              "      <th>39769</th>\n",
              "      <td>39769</td>\n",
              "      <td>33561</td>\n",
              "      <td>72063</td>\n",
              "      <td>deleted</td>\n",
              "      <td>What is a website where I can download eBooks ...</td>\n",
              "      <td>0</td>\n",
              "    </tr>\n",
              "    <tr>\n",
              "      <th>44619</th>\n",
              "      <td>44619</td>\n",
              "      <td>80055</td>\n",
              "      <td>80056</td>\n",
              "      <td>Na</td>\n",
              "      <td>How do I activate Reliance Jio 4G?</td>\n",
              "      <td>0</td>\n",
              "    </tr>\n",
              "    <tr>\n",
              "      <th>57484</th>\n",
              "      <td>57484</td>\n",
              "      <td>101005</td>\n",
              "      <td>101006</td>\n",
              "      <td>grammar</td>\n",
              "      <td>What is grammar?</td>\n",
              "      <td>0</td>\n",
              "    </tr>\n",
              "    <tr>\n",
              "      <th>108978</th>\n",
              "      <td>108978</td>\n",
              "      <td>178936</td>\n",
              "      <td>178937</td>\n",
              "      <td>i</td>\n",
              "      <td>What questions to ask any drdummer?</td>\n",
              "      <td>0</td>\n",
              "    </tr>\n",
              "    <tr>\n",
              "      <th>109311</th>\n",
              "      <td>109311</td>\n",
              "      <td>179423</td>\n",
              "      <td>179424</td>\n",
              "      <td>What</td>\n",
              "      <td>What are the options for getting fee concessio...</td>\n",
              "      <td>0</td>\n",
              "    </tr>\n",
              "    <tr>\n",
              "      <th>115347</th>\n",
              "      <td>115347</td>\n",
              "      <td>188110</td>\n",
              "      <td>52215</td>\n",
              "      <td>o</td>\n",
              "      <td>Where can I watch free streaming movies online?</td>\n",
              "      <td>0</td>\n",
              "    </tr>\n",
              "    <tr>\n",
              "      <th>139219</th>\n",
              "      <td>139219</td>\n",
              "      <td>33561</td>\n",
              "      <td>40405</td>\n",
              "      <td>deleted</td>\n",
              "      <td>Where can I get online PDF or EPUB versions of...</td>\n",
              "      <td>0</td>\n",
              "    </tr>\n",
              "    <tr>\n",
              "      <th>151922</th>\n",
              "      <td>151922</td>\n",
              "      <td>188110</td>\n",
              "      <td>238787</td>\n",
              "      <td>o</td>\n",
              "      <td>What is this - “This website/URL has been bloc...</td>\n",
              "      <td>0</td>\n",
              "    </tr>\n",
              "    <tr>\n",
              "      <th>158778</th>\n",
              "      <td>158778</td>\n",
              "      <td>247989</td>\n",
              "      <td>48850</td>\n",
              "      <td>A</td>\n",
              "      <td>Do men forgive their wives when they cheat on ...</td>\n",
              "      <td>0</td>\n",
              "    </tr>\n",
              "    <tr>\n",
              "      <th>164553</th>\n",
              "      <td>164553</td>\n",
              "      <td>255663</td>\n",
              "      <td>255664</td>\n",
              "      <td>Nana</td>\n",
              "      <td>If my ex-girfriend of 2 years tries to come ba...</td>\n",
              "      <td>0</td>\n",
              "    </tr>\n",
              "    <tr>\n",
              "      <th>180461</th>\n",
              "      <td>180461</td>\n",
              "      <td>276676</td>\n",
              "      <td>153211</td>\n",
              "      <td>spam</td>\n",
              "      <td>Why was spam is called spam?</td>\n",
              "      <td>0</td>\n",
              "    </tr>\n",
              "    <tr>\n",
              "      <th>189396</th>\n",
              "      <td>189396</td>\n",
              "      <td>288142</td>\n",
              "      <td>288143</td>\n",
              "      <td>Which</td>\n",
              "      <td>Which Fake GPS with Joystick app will work for...</td>\n",
              "      <td>0</td>\n",
              "    </tr>\n",
              "    <tr>\n",
              "      <th>193815</th>\n",
              "      <td>193815</td>\n",
              "      <td>33561</td>\n",
              "      <td>80253</td>\n",
              "      <td>deleted</td>\n",
              "      <td>What is the best site to download books?</td>\n",
              "      <td>0</td>\n",
              "    </tr>\n",
              "    <tr>\n",
              "      <th>199110</th>\n",
              "      <td>199110</td>\n",
              "      <td>300509</td>\n",
              "      <td>300510</td>\n",
              "      <td>I</td>\n",
              "      <td>What is the connection between Donald trump an...</td>\n",
              "      <td>0</td>\n",
              "    </tr>\n",
              "    <tr>\n",
              "      <th>216861</th>\n",
              "      <td>216861</td>\n",
              "      <td>323090</td>\n",
              "      <td>17986</td>\n",
              "      <td>Aaas</td>\n",
              "      <td>My dad always yells at me and causes me anxiet...</td>\n",
              "      <td>0</td>\n",
              "    </tr>\n",
              "    <tr>\n",
              "      <th>231151</th>\n",
              "      <td>231151</td>\n",
              "      <td>340885</td>\n",
              "      <td>340886</td>\n",
              "      <td>Marriage</td>\n",
              "      <td>\"Marriage is an institution.\" What does this m...</td>\n",
              "      <td>0</td>\n",
              "    </tr>\n",
              "    <tr>\n",
              "      <th>231879</th>\n",
              "      <td>231879</td>\n",
              "      <td>33561</td>\n",
              "      <td>341779</td>\n",
              "      <td>deleted</td>\n",
              "      <td>What are the best websites to download ebooks ...</td>\n",
              "      <td>0</td>\n",
              "    </tr>\n",
              "    <tr>\n",
              "      <th>245880</th>\n",
              "      <td>245880</td>\n",
              "      <td>358814</td>\n",
              "      <td>358815</td>\n",
              "      <td>sss</td>\n",
              "      <td>What is sss?</td>\n",
              "      <td>0</td>\n",
              "    </tr>\n",
              "    <tr>\n",
              "      <th>248125</th>\n",
              "      <td>248125</td>\n",
              "      <td>341088</td>\n",
              "      <td>341919</td>\n",
              "      <td>deleted</td>\n",
              "      <td>How can I download flash season 2 episodes?</td>\n",
              "      <td>0</td>\n",
              "    </tr>\n",
              "    <tr>\n",
              "      <th>257077</th>\n",
              "      <td>257077</td>\n",
              "      <td>372328</td>\n",
              "      <td>139258</td>\n",
              "      <td>hi</td>\n",
              "      <td>What should I do to get my ex-girlfriend back ...</td>\n",
              "      <td>0</td>\n",
              "    </tr>\n",
              "    <tr>\n",
              "      <th>263134</th>\n",
              "      <td>263134</td>\n",
              "      <td>379636</td>\n",
              "      <td>29712</td>\n",
              "      <td>delete</td>\n",
              "      <td>What kind of questions on Quora aren't OK? Wha...</td>\n",
              "      <td>0</td>\n",
              "    </tr>\n",
              "    <tr>\n",
              "      <th>270146</th>\n",
              "      <td>270146</td>\n",
              "      <td>387976</td>\n",
              "      <td>387977</td>\n",
              "      <td>Ok</td>\n",
              "      <td>What would you do if you were wealthy?</td>\n",
              "      <td>0</td>\n",
              "    </tr>\n",
              "    <tr>\n",
              "      <th>297461</th>\n",
              "      <td>297461</td>\n",
              "      <td>419830</td>\n",
              "      <td>419831</td>\n",
              "      <td>civil</td>\n",
              "      <td>What is best DSLR? Canon or Nikon?</td>\n",
              "      <td>0</td>\n",
              "    </tr>\n",
              "    <tr>\n",
              "      <th>325200</th>\n",
              "      <td>325200</td>\n",
              "      <td>451410</td>\n",
              "      <td>270139</td>\n",
              "      <td>Error</td>\n",
              "      <td>Will there be an error in measuring the error?</td>\n",
              "      <td>0</td>\n",
              "    </tr>\n",
              "    <tr>\n",
              "      <th>325530</th>\n",
              "      <td>325530</td>\n",
              "      <td>451788</td>\n",
              "      <td>451789</td>\n",
              "      <td>My</td>\n",
              "      <td>My boyfriend told me he was not as attracted t...</td>\n",
              "      <td>0</td>\n",
              "    </tr>\n",
              "    <tr>\n",
              "      <th>326297</th>\n",
              "      <td>326297</td>\n",
              "      <td>452592</td>\n",
              "      <td>9811</td>\n",
              "      <td>How</td>\n",
              "      <td>What are some of the best ways to learn progra...</td>\n",
              "      <td>0</td>\n",
              "    </tr>\n",
              "    <tr>\n",
              "      <th>328601</th>\n",
              "      <td>328601</td>\n",
              "      <td>451788</td>\n",
              "      <td>455166</td>\n",
              "      <td>My</td>\n",
              "      <td>My father has many new technologies with him (...</td>\n",
              "      <td>0</td>\n",
              "    </tr>\n",
              "    <tr>\n",
              "      <th>357127</th>\n",
              "      <td>357127</td>\n",
              "      <td>486520</td>\n",
              "      <td>146954</td>\n",
              "      <td>H</td>\n",
              "      <td>Should I forgive the cheater?</td>\n",
              "      <td>0</td>\n",
              "    </tr>\n",
              "    <tr>\n",
              "      <th>365317</th>\n",
              "      <td>365317</td>\n",
              "      <td>33561</td>\n",
              "      <td>365465</td>\n",
              "      <td>deleted</td>\n",
              "      <td>From which site I can download GTA 4 game?</td>\n",
              "      <td>0</td>\n",
              "    </tr>\n",
              "    <tr>\n",
              "      <th>381124</th>\n",
              "      <td>381124</td>\n",
              "      <td>512812</td>\n",
              "      <td>512813</td>\n",
              "      <td>no</td>\n",
              "      <td>I have a BS and MPH and hate my job. I found t...</td>\n",
              "      <td>0</td>\n",
              "    </tr>\n",
              "  </tbody>\n",
              "</table>\n",
              "</div>"
            ],
            "text/plain": [
              "            id  ...  is_duplicate\n",
              "17682    17682  ...             0\n",
              "23305    23305  ...             0\n",
              "23884    23884  ...             0\n",
              "25315    25315  ...             0\n",
              "39769    39769  ...             0\n",
              "44619    44619  ...             0\n",
              "57484    57484  ...             0\n",
              "108978  108978  ...             0\n",
              "109311  109311  ...             0\n",
              "115347  115347  ...             0\n",
              "139219  139219  ...             0\n",
              "151922  151922  ...             0\n",
              "158778  158778  ...             0\n",
              "164553  164553  ...             0\n",
              "180461  180461  ...             0\n",
              "189396  189396  ...             0\n",
              "193815  193815  ...             0\n",
              "199110  199110  ...             0\n",
              "216861  216861  ...             0\n",
              "231151  231151  ...             0\n",
              "231879  231879  ...             0\n",
              "245880  245880  ...             0\n",
              "248125  248125  ...             0\n",
              "257077  257077  ...             0\n",
              "263134  263134  ...             0\n",
              "270146  270146  ...             0\n",
              "297461  297461  ...             0\n",
              "325200  325200  ...             0\n",
              "325530  325530  ...             0\n",
              "326297  326297  ...             0\n",
              "328601  328601  ...             0\n",
              "357127  357127  ...             0\n",
              "365317  365317  ...             0\n",
              "381124  381124  ...             0\n",
              "\n",
              "[34 rows x 6 columns]"
            ]
          },
          "metadata": {
            "tags": []
          },
          "execution_count": 9
        }
      ]
    },
    {
      "cell_type": "code",
      "metadata": {
        "colab": {
          "base_uri": "https://localhost:8080/"
        },
        "id": "p1VgpYFyNcps",
        "outputId": "c2ae2f3f-a1b9-4a93-f648-c14854d1bf92"
      },
      "source": [
        "df[df['question2'].apply(lambda x: x.isalpha())]"
      ],
      "execution_count": null,
      "outputs": [
        {
          "output_type": "execute_result",
          "data": {
            "text/html": [
              "<div>\n",
              "<style scoped>\n",
              "    .dataframe tbody tr th:only-of-type {\n",
              "        vertical-align: middle;\n",
              "    }\n",
              "\n",
              "    .dataframe tbody tr th {\n",
              "        vertical-align: top;\n",
              "    }\n",
              "\n",
              "    .dataframe thead th {\n",
              "        text-align: right;\n",
              "    }\n",
              "</style>\n",
              "<table border=\"1\" class=\"dataframe\">\n",
              "  <thead>\n",
              "    <tr style=\"text-align: right;\">\n",
              "      <th></th>\n",
              "      <th>id</th>\n",
              "      <th>qid1</th>\n",
              "      <th>qid2</th>\n",
              "      <th>question1</th>\n",
              "      <th>question2</th>\n",
              "      <th>is_duplicate</th>\n",
              "    </tr>\n",
              "  </thead>\n",
              "  <tbody>\n",
              "    <tr>\n",
              "      <th>74304</th>\n",
              "      <td>74304</td>\n",
              "      <td>127360</td>\n",
              "      <td>127361</td>\n",
              "      <td>Is there any chances for hailstones tomorrow?</td>\n",
              "      <td>parisflatlist</td>\n",
              "      <td>0</td>\n",
              "    </tr>\n",
              "    <tr>\n",
              "      <th>109009</th>\n",
              "      <td>109009</td>\n",
              "      <td>178981</td>\n",
              "      <td>178982</td>\n",
              "      <td>How do I make a box that I can put my phone in...</td>\n",
              "      <td>Hh</td>\n",
              "      <td>0</td>\n",
              "    </tr>\n",
              "    <tr>\n",
              "      <th>144506</th>\n",
              "      <td>144506</td>\n",
              "      <td>228687</td>\n",
              "      <td>228688</td>\n",
              "      <td>How beautiful do you think you are?</td>\n",
              "      <td>Delete</td>\n",
              "      <td>0</td>\n",
              "    </tr>\n",
              "    <tr>\n",
              "      <th>175282</th>\n",
              "      <td>175282</td>\n",
              "      <td>269923</td>\n",
              "      <td>44699</td>\n",
              "      <td>Hh</td>\n",
              "      <td>HH</td>\n",
              "      <td>1</td>\n",
              "    </tr>\n",
              "    <tr>\n",
              "      <th>181695</th>\n",
              "      <td>181695</td>\n",
              "      <td>278281</td>\n",
              "      <td>278282</td>\n",
              "      <td>Why does the page reload every time I try to c...</td>\n",
              "      <td>Why</td>\n",
              "      <td>0</td>\n",
              "    </tr>\n",
              "    <tr>\n",
              "      <th>198913</th>\n",
              "      <td>198913</td>\n",
              "      <td>300250</td>\n",
              "      <td>188110</td>\n",
              "      <td>What is this?</td>\n",
              "      <td>o</td>\n",
              "      <td>0</td>\n",
              "    </tr>\n",
              "    <tr>\n",
              "      <th>208199</th>\n",
              "      <td>208199</td>\n",
              "      <td>312128</td>\n",
              "      <td>312129</td>\n",
              "      <td>Happiness! We offer a seat or help others beca...</td>\n",
              "      <td>Edit</td>\n",
              "      <td>0</td>\n",
              "    </tr>\n",
              "    <tr>\n",
              "      <th>231313</th>\n",
              "      <td>231313</td>\n",
              "      <td>179756</td>\n",
              "      <td>341088</td>\n",
              "      <td>From where to download episode2 season 3 of Th...</td>\n",
              "      <td>deleted</td>\n",
              "      <td>0</td>\n",
              "    </tr>\n",
              "    <tr>\n",
              "      <th>236655</th>\n",
              "      <td>236655</td>\n",
              "      <td>153211</td>\n",
              "      <td>347631</td>\n",
              "      <td>Why was spam is called spam?</td>\n",
              "      <td>Spam</td>\n",
              "      <td>0</td>\n",
              "    </tr>\n",
              "    <tr>\n",
              "      <th>328745</th>\n",
              "      <td>328745</td>\n",
              "      <td>125092</td>\n",
              "      <td>455319</td>\n",
              "      <td>lol ?</td>\n",
              "      <td>lol</td>\n",
              "      <td>1</td>\n",
              "    </tr>\n",
              "    <tr>\n",
              "      <th>361480</th>\n",
              "      <td>361480</td>\n",
              "      <td>491330</td>\n",
              "      <td>347631</td>\n",
              "      <td>As a 13 year old, how do I get out of my unliv...</td>\n",
              "      <td>Spam</td>\n",
              "      <td>0</td>\n",
              "    </tr>\n",
              "  </tbody>\n",
              "</table>\n",
              "</div>"
            ],
            "text/plain": [
              "            id    qid1  ...      question2 is_duplicate\n",
              "74304    74304  127360  ...  parisflatlist            0\n",
              "109009  109009  178981  ...             Hh            0\n",
              "144506  144506  228687  ...         Delete            0\n",
              "175282  175282  269923  ...             HH            1\n",
              "181695  181695  278281  ...            Why            0\n",
              "198913  198913  300250  ...              o            0\n",
              "208199  208199  312128  ...           Edit            0\n",
              "231313  231313  179756  ...        deleted            0\n",
              "236655  236655  153211  ...           Spam            0\n",
              "328745  328745  125092  ...            lol            1\n",
              "361480  361480  491330  ...           Spam            0\n",
              "\n",
              "[11 rows x 6 columns]"
            ]
          },
          "metadata": {
            "tags": []
          },
          "execution_count": 10
        }
      ]
    },
    {
      "cell_type": "markdown",
      "metadata": {
        "id": "cq2oz-SCO1aK"
      },
      "source": [
        "Some questions are dehk\n",
        "\n",
        "\n",
        "1.   175282\t175282\t269923\t44699\tHh\tHH\t1 **ظظظظ**\n",
        "2.   328745\t328745\t125092\t455319\tlol ?\tlol\t1 **okay lol**  \n",
        "\n",
        "\n"
      ]
    },
    {
      "cell_type": "markdown",
      "metadata": {
        "id": "LFKf4wzIsmOo"
      },
      "source": [
        "# Preprocessing"
      ]
    },
    {
      "cell_type": "code",
      "metadata": {
        "colab": {
          "base_uri": "https://localhost:8080/"
        },
        "id": "UcgFVFUsGXRD",
        "outputId": "b66ce602-26ad-42c2-9ad2-860d88d0d114"
      },
      "source": [
        "import tensorflow as tf\n",
        "import keras\n",
        "from keras import backend as K\n",
        "from keras.optimizers import Adam\n",
        "from keras.preprocessing.sequence import pad_sequences\n",
        "from keras.models import Model\n",
        "from keras.layers.core import Lambda\n",
        "from keras.layers import Input, Concatenate, Flatten, Dense, Embedding, LSTM ,  Multiply, Dropout, Subtract, Add\n",
        "import torch\n",
        "!pip install -U torchtext==0.8.0\n",
        "from torchtext.data import Field\n",
        "from torchtext.vocab import GloVe"
      ],
      "execution_count": null,
      "outputs": [
        {
          "output_type": "stream",
          "text": [
            "Requirement already up-to-date: torchtext==0.8.0 in /usr/local/lib/python3.7/dist-packages (0.8.0)\n",
            "Requirement already satisfied, skipping upgrade: torch in /usr/local/lib/python3.7/dist-packages (from torchtext==0.8.0) (1.8.0+cu101)\n",
            "Requirement already satisfied, skipping upgrade: requests in /usr/local/lib/python3.7/dist-packages (from torchtext==0.8.0) (2.23.0)\n",
            "Requirement already satisfied, skipping upgrade: numpy in /usr/local/lib/python3.7/dist-packages (from torchtext==0.8.0) (1.19.5)\n",
            "Requirement already satisfied, skipping upgrade: tqdm in /usr/local/lib/python3.7/dist-packages (from torchtext==0.8.0) (4.41.1)\n",
            "Requirement already satisfied, skipping upgrade: typing-extensions in /usr/local/lib/python3.7/dist-packages (from torch->torchtext==0.8.0) (3.7.4.3)\n",
            "Requirement already satisfied, skipping upgrade: urllib3!=1.25.0,!=1.25.1,<1.26,>=1.21.1 in /usr/local/lib/python3.7/dist-packages (from requests->torchtext==0.8.0) (1.24.3)\n",
            "Requirement already satisfied, skipping upgrade: chardet<4,>=3.0.2 in /usr/local/lib/python3.7/dist-packages (from requests->torchtext==0.8.0) (3.0.4)\n",
            "Requirement already satisfied, skipping upgrade: certifi>=2017.4.17 in /usr/local/lib/python3.7/dist-packages (from requests->torchtext==0.8.0) (2020.12.5)\n",
            "Requirement already satisfied, skipping upgrade: idna<3,>=2.5 in /usr/local/lib/python3.7/dist-packages (from requests->torchtext==0.8.0) (2.10)\n"
          ],
          "name": "stdout"
        }
      ]
    },
    {
      "cell_type": "code",
      "metadata": {
        "id": "-RMaJssFNlWd",
        "colab": {
          "base_uri": "https://localhost:8080/"
        },
        "outputId": "0c4d162d-a948-40ab-e343-eb51d8574f3a"
      },
      "source": [
        "import nltk\n",
        "import re\n",
        "nltk.download('punkt')\n",
        "nltk.download('stopwords')\n",
        "nltk.download('wordnet')\n",
        "from nltk import word_tokenize\n",
        "from nltk.corpus import stopwords\n",
        "from nltk.stem.snowball import SnowballStemmer"
      ],
      "execution_count": null,
      "outputs": [
        {
          "output_type": "stream",
          "text": [
            "[nltk_data] Downloading package punkt to /root/nltk_data...\n",
            "[nltk_data]   Unzipping tokenizers/punkt.zip.\n",
            "[nltk_data] Downloading package stopwords to /root/nltk_data...\n",
            "[nltk_data]   Unzipping corpora/stopwords.zip.\n",
            "[nltk_data] Downloading package wordnet to /root/nltk_data...\n",
            "[nltk_data]   Unzipping corpora/wordnet.zip.\n"
          ],
          "name": "stdout"
        }
      ]
    },
    {
      "cell_type": "code",
      "metadata": {
        "id": "oZdQy2pLPAkm"
      },
      "source": [
        "import ast"
      ],
      "execution_count": null,
      "outputs": []
    },
    {
      "cell_type": "code",
      "metadata": {
        "id": "PRT3uvliz2WL"
      },
      "source": [
        "def remove_punc_word(word):\n",
        "  # initializing punctuations string  \n",
        "  punc = '''!()-[]{};:'\"\\, <>./?@#$%^&*_~'''\n",
        "  # Removing punctuations in string \n",
        "  # Using loop + punctuation string \n",
        "  for ele in word:  \n",
        "    if ele in punc:  \n",
        "        word = word.replace(ele, \" \")  \n",
        "  return word\n",
        "\n",
        "def remove_punc_list(word_list):\n",
        "  for i in range(len(word_list)):\n",
        "    word_list[i] = remove_punc_word(word_list[i])\n",
        "  return word_list\n",
        "\n",
        "def clear_string(text):\n",
        "  # Clean the text\n",
        "  text = re.sub(r\"[^A-Za-z0-9^,!.\\/'+-=]\", \" \", text)\n",
        "  #text = re.sub(r\"what's\", \"what is \", text)\n",
        "  text = re.sub(r\"\\'s\", \"is\", text)\n",
        "  text = re.sub(r\"\\'ve\", \"have\", text)\n",
        "  text = re.sub(r\"can't\", \"cannot\", text)\n",
        "  text = re.sub(r\"n't\", \"not\", text)\n",
        "  text = re.sub(r\"\\'m\", \"am\", text)\n",
        "  text = re.sub(r\"\\'re\", \"are\", text)\n",
        "  text = re.sub(r\"\\'d\", \"would\", text)\n",
        "  text = re.sub(r\"\\'ll\", \"will\", text)\n",
        "  #text = re.sub(r\",\", \" \", text)\n",
        "  #text = re.sub(r\"\\.\", \" \", text)\n",
        "  #text = re.sub(r\"!\", \" ! \", text)\n",
        "  #text = re.sub(r\"\\/\", \" \", text)\n",
        "  #text = re.sub(r\"\\^\", \" ^ \", text)\n",
        "  #text = re.sub(r\"\\+\", \" + \", text)\n",
        "  #text = re.sub(r\"\\-\", \" - \", text)\n",
        "  #text = re.sub(r\"\\=\", \" = \", text)\n",
        "  #text = re.sub(r\"'\", \" \", text)\n",
        "  text = re.sub(r\"(\\d+)(k)\", r\"\\g<1>000\", text)\n",
        "  #text = re.sub(r\":\", \" : \", text)\n",
        "  text = re.sub(r\" e g \", \" eg \", text)\n",
        "  text = re.sub(r\" b g \", \" bg \", text)\n",
        "  text = re.sub(r\" u s \", \" american \", text)\n",
        "  text = re.sub(r\"\\0s\", \"0\", text)\n",
        "  text = re.sub(r\" 9 11 \", \"911\", text)\n",
        "  text = re.sub(r\"e - mail\", \"email\", text)\n",
        "  text = re.sub(r\"j k\", \"jk\", text)\n",
        "  text = re.sub(r\"\\s{2,}\", \" \", text)\n",
        "  return text\n"
      ],
      "execution_count": null,
      "outputs": []
    },
    {
      "cell_type": "code",
      "metadata": {
        "id": "v2pOR_NltXgF"
      },
      "source": [
        "def preprocess_line(line,tokenize=True,punc_remove=True,stem=True,tokenizer=word_tokenize,stops_remove=True,punc_remover= lambda x: [word for word in x if word.isalpha()],stemmer = SnowballStemmer('english'),stop_words=stopwords.words('english')):\n",
        "  processed_text = line \n",
        "  # (1) Tokenizing\n",
        "  if tokenize:\n",
        "    processed_text = tokenizer(line)\n",
        "  # (1.1) Cleaning String\n",
        "  processed_text =  [clear_string(word) for word in processed_text]\n",
        "  # (2) Stemming\n",
        "  if stem:\n",
        "    processed_text = [stemmer.stem(word) for word in processed_text]\n",
        "  # (3) Stop words\n",
        "  if stops_remove:\n",
        "    processed_text = [word for word in processed_text if word not in stop_words]\n",
        "  # (4) Removing Punc (Default: Remove everything except pure text)\n",
        "  if punc_remove:\n",
        "    processed_text = punc_remover(processed_text)\n",
        "  # (5) Spaces Removal\n",
        "  processed_text = list(filter(lambda x: x and x.strip(),processed_text))\n",
        "  return processed_text"
      ],
      "execution_count": null,
      "outputs": []
    },
    {
      "cell_type": "code",
      "metadata": {
        "colab": {
          "base_uri": "https://localhost:8080/",
          "height": 419
        },
        "id": "ncIUsYHAzdNF",
        "outputId": "4347f48d-ee7c-4088-c4ce-4de16c5994ab"
      },
      "source": [
        "df['question1'] = df['question1'].apply(lambda x: preprocess_line(x,punc_remover=remove_punc_list)) \n",
        "df['question2'] = df['question2'].apply(lambda x: preprocess_line(x,punc_remover=remove_punc_list)) \n",
        "df"
      ],
      "execution_count": null,
      "outputs": [
        {
          "output_type": "execute_result",
          "data": {
            "text/html": [
              "<div>\n",
              "<style scoped>\n",
              "    .dataframe tbody tr th:only-of-type {\n",
              "        vertical-align: middle;\n",
              "    }\n",
              "\n",
              "    .dataframe tbody tr th {\n",
              "        vertical-align: top;\n",
              "    }\n",
              "\n",
              "    .dataframe thead th {\n",
              "        text-align: right;\n",
              "    }\n",
              "</style>\n",
              "<table border=\"1\" class=\"dataframe\">\n",
              "  <thead>\n",
              "    <tr style=\"text-align: right;\">\n",
              "      <th></th>\n",
              "      <th>id</th>\n",
              "      <th>qid1</th>\n",
              "      <th>qid2</th>\n",
              "      <th>question1</th>\n",
              "      <th>question2</th>\n",
              "      <th>is_duplicate</th>\n",
              "    </tr>\n",
              "  </thead>\n",
              "  <tbody>\n",
              "    <tr>\n",
              "      <th>0</th>\n",
              "      <td>0</td>\n",
              "      <td>1</td>\n",
              "      <td>2</td>\n",
              "      <td>[step, step, guid, invest, share, market, india]</td>\n",
              "      <td>[step, step, guid, invest, share, market]</td>\n",
              "      <td>0</td>\n",
              "    </tr>\n",
              "    <tr>\n",
              "      <th>1</th>\n",
              "      <td>1</td>\n",
              "      <td>3</td>\n",
              "      <td>4</td>\n",
              "      <td>[stori, kohinoor, koh i noor, diamond]</td>\n",
              "      <td>[would, happen, indian, govern, stole, kohinoo...</td>\n",
              "      <td>0</td>\n",
              "    </tr>\n",
              "    <tr>\n",
              "      <th>2</th>\n",
              "      <td>2</td>\n",
              "      <td>5</td>\n",
              "      <td>6</td>\n",
              "      <td>[increas, speed, internet, connect, use, vpn]</td>\n",
              "      <td>[internet, speed, increas, hack, dns]</td>\n",
              "      <td>0</td>\n",
              "    </tr>\n",
              "    <tr>\n",
              "      <th>3</th>\n",
              "      <td>3</td>\n",
              "      <td>7</td>\n",
              "      <td>8</td>\n",
              "      <td>[whi, mental, veri, lone, solv]</td>\n",
              "      <td>[find, remaind, math, 23 , 24,  math, divid, 2...</td>\n",
              "      <td>0</td>\n",
              "    </tr>\n",
              "    <tr>\n",
              "      <th>4</th>\n",
              "      <td>4</td>\n",
              "      <td>9</td>\n",
              "      <td>10</td>\n",
              "      <td>[one, dissolv, water, quik, sugar, salt, metha...</td>\n",
              "      <td>[fish, would, surviv, salt, water]</td>\n",
              "      <td>0</td>\n",
              "    </tr>\n",
              "    <tr>\n",
              "      <th>...</th>\n",
              "      <td>...</td>\n",
              "      <td>...</td>\n",
              "      <td>...</td>\n",
              "      <td>...</td>\n",
              "      <td>...</td>\n",
              "      <td>...</td>\n",
              "    </tr>\n",
              "    <tr>\n",
              "      <th>404285</th>\n",
              "      <td>404285</td>\n",
              "      <td>433578</td>\n",
              "      <td>379845</td>\n",
              "      <td>[mani, keyword, racket, program, languag, late...</td>\n",
              "      <td>[mani, keyword, perl, program, languag, latest...</td>\n",
              "      <td>0</td>\n",
              "    </tr>\n",
              "    <tr>\n",
              "      <th>404286</th>\n",
              "      <td>404286</td>\n",
              "      <td>18840</td>\n",
              "      <td>155606</td>\n",
              "      <td>[believ, life, death]</td>\n",
              "      <td>[true, life, death]</td>\n",
              "      <td>1</td>\n",
              "    </tr>\n",
              "    <tr>\n",
              "      <th>404287</th>\n",
              "      <td>404287</td>\n",
              "      <td>537928</td>\n",
              "      <td>537929</td>\n",
              "      <td>[one, coin]</td>\n",
              "      <td>[coin]</td>\n",
              "      <td>0</td>\n",
              "    </tr>\n",
              "    <tr>\n",
              "      <th>404288</th>\n",
              "      <td>404288</td>\n",
              "      <td>537930</td>\n",
              "      <td>537931</td>\n",
              "      <td>[approx, annual, cost, live, studi, uic, chica...</td>\n",
              "      <td>[littl, hairfal, problem, want, use, hair, sty...</td>\n",
              "      <td>0</td>\n",
              "    </tr>\n",
              "    <tr>\n",
              "      <th>404289</th>\n",
              "      <td>404289</td>\n",
              "      <td>537932</td>\n",
              "      <td>537933</td>\n",
              "      <td>[like, sex, cousin]</td>\n",
              "      <td>[like, sex, cousin]</td>\n",
              "      <td>0</td>\n",
              "    </tr>\n",
              "  </tbody>\n",
              "</table>\n",
              "<p>404287 rows × 6 columns</p>\n",
              "</div>"
            ],
            "text/plain": [
              "            id  ...  is_duplicate\n",
              "0            0  ...             0\n",
              "1            1  ...             0\n",
              "2            2  ...             0\n",
              "3            3  ...             0\n",
              "4            4  ...             0\n",
              "...        ...  ...           ...\n",
              "404285  404285  ...             0\n",
              "404286  404286  ...             1\n",
              "404287  404287  ...             0\n",
              "404288  404288  ...             0\n",
              "404289  404289  ...             0\n",
              "\n",
              "[404287 rows x 6 columns]"
            ]
          },
          "metadata": {
            "tags": []
          },
          "execution_count": 17
        }
      ]
    },
    {
      "cell_type": "code",
      "metadata": {
        "colab": {
          "base_uri": "https://localhost:8080/",
          "height": 419
        },
        "id": "ISPIcWrbCVHc",
        "outputId": "3531771c-f211-4845-b215-c34dc5508ea4"
      },
      "source": [
        "df['question1_len'] = df['question1'].apply(lambda x: len(x))\n",
        "df['question2_len'] = df['question2'].apply(lambda x: len(x))\n",
        "df"
      ],
      "execution_count": null,
      "outputs": [
        {
          "output_type": "execute_result",
          "data": {
            "text/html": [
              "<div>\n",
              "<style scoped>\n",
              "    .dataframe tbody tr th:only-of-type {\n",
              "        vertical-align: middle;\n",
              "    }\n",
              "\n",
              "    .dataframe tbody tr th {\n",
              "        vertical-align: top;\n",
              "    }\n",
              "\n",
              "    .dataframe thead th {\n",
              "        text-align: right;\n",
              "    }\n",
              "</style>\n",
              "<table border=\"1\" class=\"dataframe\">\n",
              "  <thead>\n",
              "    <tr style=\"text-align: right;\">\n",
              "      <th></th>\n",
              "      <th>Unnamed: 0</th>\n",
              "      <th>id</th>\n",
              "      <th>qid1</th>\n",
              "      <th>qid2</th>\n",
              "      <th>question1</th>\n",
              "      <th>question2</th>\n",
              "      <th>is_duplicate</th>\n",
              "      <th>question1_len</th>\n",
              "      <th>question2_len</th>\n",
              "    </tr>\n",
              "  </thead>\n",
              "  <tbody>\n",
              "    <tr>\n",
              "      <th>0</th>\n",
              "      <td>0</td>\n",
              "      <td>0</td>\n",
              "      <td>1</td>\n",
              "      <td>2</td>\n",
              "      <td>[595, 595, 1825, 184, 433, 113, 6]</td>\n",
              "      <td>[595, 595, 1825, 184, 433, 113]</td>\n",
              "      <td>0</td>\n",
              "      <td>7</td>\n",
              "      <td>6</td>\n",
              "    </tr>\n",
              "    <tr>\n",
              "      <th>1</th>\n",
              "      <td>1</td>\n",
              "      <td>1</td>\n",
              "      <td>3</td>\n",
              "      <td>4</td>\n",
              "      <td>[294, 10588, 17081, 2898]</td>\n",
              "      <td>[12, 45, 30, 163, 8257, 10588, 17081, 2898, 149]</td>\n",
              "      <td>0</td>\n",
              "      <td>4</td>\n",
              "      <td>9</td>\n",
              "    </tr>\n",
              "    <tr>\n",
              "      <th>2</th>\n",
              "      <td>2</td>\n",
              "      <td>2</td>\n",
              "      <td>5</td>\n",
              "      <td>6</td>\n",
              "      <td>[138, 381, 310, 472, 8, 2383]</td>\n",
              "      <td>[310, 381, 138, 181, 7923]</td>\n",
              "      <td>0</td>\n",
              "      <td>6</td>\n",
              "      <td>5</td>\n",
              "    </tr>\n",
              "    <tr>\n",
              "      <th>3</th>\n",
              "      <td>3</td>\n",
              "      <td>3</td>\n",
              "      <td>7</td>\n",
              "      <td>8</td>\n",
              "      <td>[2, 1002, 256, 2211, 448]</td>\n",
              "      <td>[39, 3249, 241, 27193, 1455, 608, 1598, 48190]</td>\n",
              "      <td>0</td>\n",
              "      <td>5</td>\n",
              "      <td>8</td>\n",
              "    </tr>\n",
              "    <tr>\n",
              "      <th>4</th>\n",
              "      <td>4</td>\n",
              "      <td>4</td>\n",
              "      <td>9</td>\n",
              "      <td>10</td>\n",
              "      <td>[15, 4418, 177, 25957, 1722, 1713, 7719, 1433,...</td>\n",
              "      <td>[1482, 12, 901, 1713, 177]</td>\n",
              "      <td>0</td>\n",
              "      <td>10</td>\n",
              "      <td>5</td>\n",
              "    </tr>\n",
              "    <tr>\n",
              "      <th>...</th>\n",
              "      <td>...</td>\n",
              "      <td>...</td>\n",
              "      <td>...</td>\n",
              "      <td>...</td>\n",
              "      <td>...</td>\n",
              "      <td>...</td>\n",
              "      <td>...</td>\n",
              "      <td>...</td>\n",
              "      <td>...</td>\n",
              "    </tr>\n",
              "    <tr>\n",
              "      <th>404282</th>\n",
              "      <td>404285</td>\n",
              "      <td>404285</td>\n",
              "      <td>433578</td>\n",
              "      <td>379845</td>\n",
              "      <td>[37, 1929, 7305, 69, 78, 1044, 854]</td>\n",
              "      <td>[37, 1929, 8673, 69, 78, 1044, 854]</td>\n",
              "      <td>0</td>\n",
              "      <td>7</td>\n",
              "      <td>7</td>\n",
              "    </tr>\n",
              "    <tr>\n",
              "      <th>404283</th>\n",
              "      <td>404286</td>\n",
              "      <td>404286</td>\n",
              "      <td>18840</td>\n",
              "      <td>155606</td>\n",
              "      <td>[254, 20, 458]</td>\n",
              "      <td>[214, 20, 458]</td>\n",
              "      <td>1</td>\n",
              "      <td>3</td>\n",
              "      <td>3</td>\n",
              "    </tr>\n",
              "    <tr>\n",
              "      <th>404284</th>\n",
              "      <td>404287</td>\n",
              "      <td>404287</td>\n",
              "      <td>537928</td>\n",
              "      <td>537929</td>\n",
              "      <td>[15, 1647]</td>\n",
              "      <td>[1647]</td>\n",
              "      <td>0</td>\n",
              "      <td>2</td>\n",
              "      <td>1</td>\n",
              "    </tr>\n",
              "    <tr>\n",
              "      <th>404285</th>\n",
              "      <td>404288</td>\n",
              "      <td>404288</td>\n",
              "      <td>537930</td>\n",
              "      <td>537931</td>\n",
              "      <td>[5390, 2402, 223, 77, 83, 23109, 2732, 30, 79]</td>\n",
              "      <td>[994, 6158, 213, 40, 8, 220, 1496, 166, 15, 62...</td>\n",
              "      <td>0</td>\n",
              "      <td>9</td>\n",
              "      <td>13</td>\n",
              "    </tr>\n",
              "    <tr>\n",
              "      <th>404286</th>\n",
              "      <td>404289</td>\n",
              "      <td>404289</td>\n",
              "      <td>537932</td>\n",
              "      <td>537933</td>\n",
              "      <td>[7, 108, 3221]</td>\n",
              "      <td>[7, 108, 3221]</td>\n",
              "      <td>0</td>\n",
              "      <td>3</td>\n",
              "      <td>3</td>\n",
              "    </tr>\n",
              "  </tbody>\n",
              "</table>\n",
              "<p>404287 rows × 9 columns</p>\n",
              "</div>"
            ],
            "text/plain": [
              "        Unnamed: 0      id    qid1  ...  is_duplicate question1_len question2_len\n",
              "0                0       0       1  ...             0             7             6\n",
              "1                1       1       3  ...             0             4             9\n",
              "2                2       2       5  ...             0             6             5\n",
              "3                3       3       7  ...             0             5             8\n",
              "4                4       4       9  ...             0            10             5\n",
              "...            ...     ...     ...  ...           ...           ...           ...\n",
              "404282      404285  404285  433578  ...             0             7             7\n",
              "404283      404286  404286   18840  ...             1             3             3\n",
              "404284      404287  404287  537928  ...             0             2             1\n",
              "404285      404288  404288  537930  ...             0             9            13\n",
              "404286      404289  404289  537932  ...             0             3             3\n",
              "\n",
              "[404287 rows x 9 columns]"
            ]
          },
          "metadata": {
            "tags": []
          },
          "execution_count": 21
        }
      ]
    },
    {
      "cell_type": "code",
      "metadata": {
        "id": "qvbp7BerGW_B"
      },
      "source": [
        "#df.to_csv('/content/drive/MyDrive/machathon_preperation/quora/check_point_words.csv')\n",
        "df = pd.read_csv('/content/drive/MyDrive/machathon_preperation/quora/check_point_words.csv') #Load checkpoint\n",
        "df['question1'] = df['question1'].apply(lambda x:ast.literal_eval(x))\n",
        "df['question2'] = df['question2'].apply(lambda x:ast.literal_eval(x))"
      ],
      "execution_count": null,
      "outputs": []
    },
    {
      "cell_type": "code",
      "metadata": {
        "colab": {
          "base_uri": "https://localhost:8080/"
        },
        "id": "hjF13ij3INr6",
        "outputId": "349dbef4-44da-4420-928c-1d1f8ea981f0"
      },
      "source": [
        "text_field = Field()\n",
        "embedder = GloVe(name='6B', dim=300)\n",
        "text_field.build_vocab(\n",
        "    pd.concat([df['question1'],df['question2']],ignore_index=True), \n",
        "    vectors=embedder\n",
        ")\n",
        "\n"
      ],
      "execution_count": null,
      "outputs": [
        {
          "output_type": "stream",
          "text": [
            "/usr/local/lib/python3.7/dist-packages/torchtext/data/field.py:150: UserWarning: Field class will be retired soon and moved to torchtext.legacy. Please see the most recent release notes for further information.\n",
            "  warnings.warn('{} class will be retired soon and moved to torchtext.legacy. Please see the most recent release notes for further information.'.format(self.__class__.__name__), UserWarning)\n"
          ],
          "name": "stderr"
        }
      ]
    },
    {
      "cell_type": "code",
      "metadata": {
        "colab": {
          "base_uri": "https://localhost:8080/"
        },
        "id": "t-bYqxYjJ9PZ",
        "outputId": "2e88ba58-3a4e-4fa0-e509-fdb82c6456e3"
      },
      "source": [
        "vocab = text_field.vocab\n",
        "len(vocab)"
      ],
      "execution_count": null,
      "outputs": [
        {
          "output_type": "execute_result",
          "data": {
            "text/plain": [
              "88824"
            ]
          },
          "metadata": {
            "tags": []
          },
          "execution_count": 31
        }
      ]
    },
    {
      "cell_type": "code",
      "metadata": {
        "colab": {
          "base_uri": "https://localhost:8080/"
        },
        "id": "SGbmXL57KG1h",
        "outputId": "09ef546e-7862-46be-dcfe-98db5e6e6ca7"
      },
      "source": [
        "df['question1_len'].max()"
      ],
      "execution_count": null,
      "outputs": [
        {
          "output_type": "execute_result",
          "data": {
            "text/plain": [
              "54"
            ]
          },
          "metadata": {
            "tags": []
          },
          "execution_count": 32
        }
      ]
    },
    {
      "cell_type": "code",
      "metadata": {
        "colab": {
          "base_uri": "https://localhost:8080/",
          "height": 410
        },
        "id": "Tgm4NKpeLCcY",
        "outputId": "2154a88b-7160-4ab6-a959-6fe6a76a2ca3"
      },
      "source": [
        "plt.figure(figsize=(15,5))\n",
        "sns.distplot(df['question1_len'])"
      ],
      "execution_count": null,
      "outputs": [
        {
          "output_type": "stream",
          "text": [
            "/usr/local/lib/python3.7/dist-packages/seaborn/distributions.py:2557: FutureWarning: `distplot` is a deprecated function and will be removed in a future version. Please adapt your code to use either `displot` (a figure-level function with similar flexibility) or `histplot` (an axes-level function for histograms).\n",
            "  warnings.warn(msg, FutureWarning)\n"
          ],
          "name": "stderr"
        },
        {
          "output_type": "execute_result",
          "data": {
            "text/plain": [
              "<matplotlib.axes._subplots.AxesSubplot at 0x7f1b8348d090>"
            ]
          },
          "metadata": {
            "tags": []
          },
          "execution_count": 18
        },
        {
          "output_type": "display_data",
          "data": {
            "image/png": "[encoded data removed]",
            "text/plain": [
              "<Figure size 1080x360 with 1 Axes>"
            ]
          },
          "metadata": {
            "tags": [],
            "needs_background": "light"
          }
        }
      ]
    },
    {
      "cell_type": "code",
      "metadata": {
        "colab": {
          "base_uri": "https://localhost:8080/"
        },
        "id": "cMckGTmXLBLp",
        "outputId": "ffe8e04e-e417-4b32-eab6-4cdaf60bd8c9"
      },
      "source": [
        "df['question2_len'].max()"
      ],
      "execution_count": null,
      "outputs": [
        {
          "output_type": "execute_result",
          "data": {
            "text/plain": [
              "104"
            ]
          },
          "metadata": {
            "tags": []
          },
          "execution_count": 19
        }
      ]
    },
    {
      "cell_type": "code",
      "metadata": {
        "colab": {
          "base_uri": "https://localhost:8080/",
          "height": 410
        },
        "id": "E-FCaxsVLV6h",
        "outputId": "b1e9a9ca-e3c4-4ff9-f0bf-d60c10f4279d"
      },
      "source": [
        "plt.figure(figsize=(15,5))\n",
        "sns.distplot(df['question2_len'])"
      ],
      "execution_count": null,
      "outputs": [
        {
          "output_type": "stream",
          "text": [
            "/usr/local/lib/python3.7/dist-packages/seaborn/distributions.py:2557: FutureWarning: `distplot` is a deprecated function and will be removed in a future version. Please adapt your code to use either `displot` (a figure-level function with similar flexibility) or `histplot` (an axes-level function for histograms).\n",
            "  warnings.warn(msg, FutureWarning)\n"
          ],
          "name": "stderr"
        },
        {
          "output_type": "execute_result",
          "data": {
            "text/plain": [
              "<matplotlib.axes._subplots.AxesSubplot at 0x7f1b7e688810>"
            ]
          },
          "metadata": {
            "tags": []
          },
          "execution_count": 20
        },
        {
          "output_type": "display_data",
          "data": {
            "image/png": "[encoded data removed]",
            "text/plain": [
              "<Figure size 1080x360 with 1 Axes>"
            ]
          },
          "metadata": {
            "tags": [],
            "needs_background": "light"
          }
        }
      ]
    },
    {
      "cell_type": "code",
      "metadata": {
        "colab": {
          "base_uri": "https://localhost:8080/",
          "height": 419
        },
        "id": "i-S2PKw8N9Wd",
        "outputId": "4c526a38-0fe5-4100-f5b0-04d7c5f42ad2"
      },
      "source": [
        "df['question1'] = df['question1'].apply(lambda x: [vocab[word] for word in x])\n",
        "df['question2'] = df['question2'].apply(lambda x: [vocab[word] for word in x])\n",
        "df"
      ],
      "execution_count": null,
      "outputs": [
        {
          "output_type": "execute_result",
          "data": {
            "text/html": [
              "<div>\n",
              "<style scoped>\n",
              "    .dataframe tbody tr th:only-of-type {\n",
              "        vertical-align: middle;\n",
              "    }\n",
              "\n",
              "    .dataframe tbody tr th {\n",
              "        vertical-align: top;\n",
              "    }\n",
              "\n",
              "    .dataframe thead th {\n",
              "        text-align: right;\n",
              "    }\n",
              "</style>\n",
              "<table border=\"1\" class=\"dataframe\">\n",
              "  <thead>\n",
              "    <tr style=\"text-align: right;\">\n",
              "      <th></th>\n",
              "      <th>Unnamed: 0</th>\n",
              "      <th>id</th>\n",
              "      <th>qid1</th>\n",
              "      <th>qid2</th>\n",
              "      <th>question1</th>\n",
              "      <th>question2</th>\n",
              "      <th>is_duplicate</th>\n",
              "      <th>question1_len</th>\n",
              "      <th>question2_len</th>\n",
              "    </tr>\n",
              "  </thead>\n",
              "  <tbody>\n",
              "    <tr>\n",
              "      <th>0</th>\n",
              "      <td>0</td>\n",
              "      <td>0</td>\n",
              "      <td>1</td>\n",
              "      <td>2</td>\n",
              "      <td>[595, 595, 1825, 184, 433, 113, 6]</td>\n",
              "      <td>[595, 595, 1825, 184, 433, 113]</td>\n",
              "      <td>0</td>\n",
              "      <td>7</td>\n",
              "      <td>6</td>\n",
              "    </tr>\n",
              "    <tr>\n",
              "      <th>1</th>\n",
              "      <td>1</td>\n",
              "      <td>1</td>\n",
              "      <td>3</td>\n",
              "      <td>4</td>\n",
              "      <td>[294, 10588, 17081, 2898]</td>\n",
              "      <td>[12, 45, 30, 163, 8257, 10588, 17081, 2898, 149]</td>\n",
              "      <td>0</td>\n",
              "      <td>4</td>\n",
              "      <td>9</td>\n",
              "    </tr>\n",
              "    <tr>\n",
              "      <th>2</th>\n",
              "      <td>2</td>\n",
              "      <td>2</td>\n",
              "      <td>5</td>\n",
              "      <td>6</td>\n",
              "      <td>[138, 381, 310, 472, 8, 2383]</td>\n",
              "      <td>[310, 381, 138, 181, 7923]</td>\n",
              "      <td>0</td>\n",
              "      <td>6</td>\n",
              "      <td>5</td>\n",
              "    </tr>\n",
              "    <tr>\n",
              "      <th>3</th>\n",
              "      <td>3</td>\n",
              "      <td>3</td>\n",
              "      <td>7</td>\n",
              "      <td>8</td>\n",
              "      <td>[2, 1002, 256, 2211, 448]</td>\n",
              "      <td>[39, 3249, 241, 27193, 1455, 608, 1598, 48190]</td>\n",
              "      <td>0</td>\n",
              "      <td>5</td>\n",
              "      <td>8</td>\n",
              "    </tr>\n",
              "    <tr>\n",
              "      <th>4</th>\n",
              "      <td>4</td>\n",
              "      <td>4</td>\n",
              "      <td>9</td>\n",
              "      <td>10</td>\n",
              "      <td>[15, 4418, 177, 25957, 1722, 1713, 7719, 1433,...</td>\n",
              "      <td>[1482, 12, 901, 1713, 177]</td>\n",
              "      <td>0</td>\n",
              "      <td>10</td>\n",
              "      <td>5</td>\n",
              "    </tr>\n",
              "    <tr>\n",
              "      <th>...</th>\n",
              "      <td>...</td>\n",
              "      <td>...</td>\n",
              "      <td>...</td>\n",
              "      <td>...</td>\n",
              "      <td>...</td>\n",
              "      <td>...</td>\n",
              "      <td>...</td>\n",
              "      <td>...</td>\n",
              "      <td>...</td>\n",
              "    </tr>\n",
              "    <tr>\n",
              "      <th>404282</th>\n",
              "      <td>404285</td>\n",
              "      <td>404285</td>\n",
              "      <td>433578</td>\n",
              "      <td>379845</td>\n",
              "      <td>[37, 1929, 7305, 69, 78, 1044, 854]</td>\n",
              "      <td>[37, 1929, 8673, 69, 78, 1044, 854]</td>\n",
              "      <td>0</td>\n",
              "      <td>7</td>\n",
              "      <td>7</td>\n",
              "    </tr>\n",
              "    <tr>\n",
              "      <th>404283</th>\n",
              "      <td>404286</td>\n",
              "      <td>404286</td>\n",
              "      <td>18840</td>\n",
              "      <td>155606</td>\n",
              "      <td>[254, 20, 458]</td>\n",
              "      <td>[214, 20, 458]</td>\n",
              "      <td>1</td>\n",
              "      <td>3</td>\n",
              "      <td>3</td>\n",
              "    </tr>\n",
              "    <tr>\n",
              "      <th>404284</th>\n",
              "      <td>404287</td>\n",
              "      <td>404287</td>\n",
              "      <td>537928</td>\n",
              "      <td>537929</td>\n",
              "      <td>[15, 1647]</td>\n",
              "      <td>[1647]</td>\n",
              "      <td>0</td>\n",
              "      <td>2</td>\n",
              "      <td>1</td>\n",
              "    </tr>\n",
              "    <tr>\n",
              "      <th>404285</th>\n",
              "      <td>404288</td>\n",
              "      <td>404288</td>\n",
              "      <td>537930</td>\n",
              "      <td>537931</td>\n",
              "      <td>[5390, 2402, 223, 77, 83, 23109, 2732, 30, 79]</td>\n",
              "      <td>[994, 6158, 213, 40, 8, 220, 1496, 166, 15, 62...</td>\n",
              "      <td>0</td>\n",
              "      <td>9</td>\n",
              "      <td>13</td>\n",
              "    </tr>\n",
              "    <tr>\n",
              "      <th>404286</th>\n",
              "      <td>404289</td>\n",
              "      <td>404289</td>\n",
              "      <td>537932</td>\n",
              "      <td>537933</td>\n",
              "      <td>[7, 108, 3221]</td>\n",
              "      <td>[7, 108, 3221]</td>\n",
              "      <td>0</td>\n",
              "      <td>3</td>\n",
              "      <td>3</td>\n",
              "    </tr>\n",
              "  </tbody>\n",
              "</table>\n",
              "<p>404287 rows × 9 columns</p>\n",
              "</div>"
            ],
            "text/plain": [
              "        Unnamed: 0      id    qid1  ...  is_duplicate question1_len question2_len\n",
              "0                0       0       1  ...             0             7             6\n",
              "1                1       1       3  ...             0             4             9\n",
              "2                2       2       5  ...             0             6             5\n",
              "3                3       3       7  ...             0             5             8\n",
              "4                4       4       9  ...             0            10             5\n",
              "...            ...     ...     ...  ...           ...           ...           ...\n",
              "404282      404285  404285  433578  ...             0             7             7\n",
              "404283      404286  404286   18840  ...             1             3             3\n",
              "404284      404287  404287  537928  ...             0             2             1\n",
              "404285      404288  404288  537930  ...             0             9            13\n",
              "404286      404289  404289  537932  ...             0             3             3\n",
              "\n",
              "[404287 rows x 9 columns]"
            ]
          },
          "metadata": {
            "tags": []
          },
          "execution_count": 33
        }
      ]
    },
    {
      "cell_type": "code",
      "metadata": {
        "id": "VKqkHWDxL12H"
      },
      "source": [
        "#df.to_csv('/content/drive/MyDrive/machathon_preperation/quora/check_point.csv')\n",
        "df = pd.read_csv('/content/drive/MyDrive/machathon_preperation/quora/check_point.csv') #Load checkpoint\n",
        "df['question1'] = df['question1'].apply(lambda x:ast.literal_eval(x))\n",
        "df['question2'] = df['question2'].apply(lambda x:ast.literal_eval(x))"
      ],
      "execution_count": null,
      "outputs": []
    },
    {
      "cell_type": "code",
      "metadata": {
        "id": "w6v32Bhp0I5G"
      },
      "source": [
        "MAX_LENGTH = 30\n",
        "EMBEDDING_DIM = 300"
      ],
      "execution_count": null,
      "outputs": []
    },
    {
      "cell_type": "code",
      "metadata": {
        "colab": {
          "base_uri": "https://localhost:8080/"
        },
        "id": "ZH3AtzVlMuvQ",
        "outputId": "d16ff05f-219e-4054-d181-66b9ab77baf7"
      },
      "source": [
        "q1_seq = pad_sequences(df['question1'], maxlen=MAX_LENGTH, padding='post')\n",
        "q2_seq = pad_sequences(df['question2'], maxlen=MAX_LENGTH, padding='post')\n",
        "q1_seq"
      ],
      "execution_count": null,
      "outputs": [
        {
          "output_type": "execute_result",
          "data": {
            "text/plain": [
              "array([[  595,   595,  1825, ...,     0,     0,     0],\n",
              "       [  294, 10588, 17081, ...,     0,     0,     0],\n",
              "       [  138,   381,   310, ...,     0,     0,     0],\n",
              "       ...,\n",
              "       [   15,  1647,     0, ...,     0,     0,     0],\n",
              "       [ 5390,  2402,   223, ...,     0,     0,     0],\n",
              "       [    7,   108,  3221, ...,     0,     0,     0]], dtype=int32)"
            ]
          },
          "metadata": {
            "tags": []
          },
          "execution_count": 36
        }
      ]
    },
    {
      "cell_type": "code",
      "metadata": {
        "id": "e81Rb4taFbrx"
      },
      "source": [
        "def cosine_distance(vests):\n",
        "    x, y = vests\n",
        "    x = K.l2_normalize(x, axis=-1)\n",
        "    y = K.l2_normalize(y, axis=-1)\n",
        "    return -K.mean(x * y, axis=-1, keepdims=True)\n",
        "\n",
        "def cos_dist_output_shape(shapes):\n",
        "    shape1, shape2 = shapes\n",
        "    return (shape1[0],1)"
      ],
      "execution_count": null,
      "outputs": []
    },
    {
      "cell_type": "code",
      "metadata": {
        "id": "Tw5LepO_OVrJ"
      },
      "source": [
        "from sklearn.metrics import roc_auc_score\n",
        "\n",
        "def auroc(y_true, y_pred):\n",
        "    return tf.py_function(roc_auc_score, (y_true, y_pred), tf.double)"
      ],
      "execution_count": null,
      "outputs": []
    },
    {
      "cell_type": "code",
      "metadata": {
        "colab": {
          "base_uri": "https://localhost:8080/"
        },
        "id": "tgVZHlvOOZ73",
        "outputId": "40457aa0-7d4e-4490-e163-5eabd6962836"
      },
      "source": [
        "input_1 = Input(shape=(q1_seq.shape[1],))\n",
        "input_2 = Input(shape=(q2_seq.shape[1],))\n",
        "\n",
        "\n",
        "common_embed = Embedding(name=\"synopsis_embedd\",input_dim =len(vocab), \n",
        "                       output_dim=EMBEDDING_DIM,weights=[vocab.vectors], \n",
        "                       input_length=q1_seq.shape[1],trainable=False) \n",
        "lstm_1 = common_embed(input_1)\n",
        "lstm_2 = common_embed(input_2)\n",
        "\n",
        "\n",
        "common_lstm = LSTM(64,return_sequences=True, activation=\"relu\")\n",
        "vector_1 = common_lstm(lstm_1)\n",
        "vector_1 = Flatten()(vector_1)\n",
        "\n",
        "vector_2 = common_lstm(lstm_2)\n",
        "vector_2 = Flatten()(vector_2)\n",
        "\n",
        "x3 = Subtract()([vector_1, vector_2])\n",
        "x3 = Multiply()([x3, x3])\n",
        "\n",
        "x1_ = Multiply()([vector_1, vector_1])\n",
        "x2_ = Multiply()([vector_2, vector_2])\n",
        "x4 = Subtract()([x1_, x2_])\n",
        "    \n",
        "    #https://stackoverflow.com/a/51003359/10650182\n",
        "x5 = Lambda(cosine_distance, output_shape=cos_dist_output_shape)([vector_1, vector_2])\n",
        "    \n",
        "conc = Concatenate(axis=-1)([x5,x4, x3])\n",
        "\n",
        "x = Dense(100, activation=\"relu\", name='conc_layer')(conc)\n",
        "x = Dropout(0.01)(x)\n",
        "out = Dense(1, activation=\"sigmoid\", name = 'out')(x)\n",
        "\n",
        "model = Model([input_1, input_2], out)\n",
        "\n",
        "model.compile(loss=\"binary_crossentropy\", metrics=['acc',auroc], optimizer=Adam(0.00001))"
      ],
      "execution_count": null,
      "outputs": [
        {
          "output_type": "stream",
          "text": [
            "WARNING:tensorflow:Layer lstm will not use cuDNN kernel since it doesn't meet the cuDNN kernel criteria. It will use generic GPU kernel as fallback when running on GPU\n"
          ],
          "name": "stdout"
        }
      ]
    },
    {
      "cell_type": "code",
      "metadata": {
        "colab": {
          "base_uri": "https://localhost:8080/"
        },
        "id": "g3cRp9b9Kpp1",
        "outputId": "62f04c33-db2e-4532-8ef7-ae310ccf69e3"
      },
      "source": [
        "model.summary()"
      ],
      "execution_count": null,
      "outputs": [
        {
          "output_type": "stream",
          "text": [
            "Model: \"model\"\n",
            "__________________________________________________________________________________________________\n",
            "Layer (type)                    Output Shape         Param #     Connected to                     \n",
            "==================================================================================================\n",
            "input_1 (InputLayer)            [(None, 30)]         0                                            \n",
            "__________________________________________________________________________________________________\n",
            "input_2 (InputLayer)            [(None, 30)]         0                                            \n",
            "__________________________________________________________________________________________________\n",
            "synopsis_embedd (Embedding)     (None, 30, 300)      26647200    input_1[0][0]                    \n",
            "                                                                 input_2[0][0]                    \n",
            "__________________________________________________________________________________________________\n",
            "lstm (LSTM)                     (None, 30, 64)       93440       synopsis_embedd[0][0]            \n",
            "                                                                 synopsis_embedd[1][0]            \n",
            "__________________________________________________________________________________________________\n",
            "flatten (Flatten)               (None, 1920)         0           lstm[0][0]                       \n",
            "__________________________________________________________________________________________________\n",
            "flatten_1 (Flatten)             (None, 1920)         0           lstm[1][0]                       \n",
            "__________________________________________________________________________________________________\n",
            "multiply_1 (Multiply)           (None, 1920)         0           flatten[0][0]                    \n",
            "                                                                 flatten[0][0]                    \n",
            "__________________________________________________________________________________________________\n",
            "multiply_2 (Multiply)           (None, 1920)         0           flatten_1[0][0]                  \n",
            "                                                                 flatten_1[0][0]                  \n",
            "__________________________________________________________________________________________________\n",
            "subtract (Subtract)             (None, 1920)         0           flatten[0][0]                    \n",
            "                                                                 flatten_1[0][0]                  \n",
            "__________________________________________________________________________________________________\n",
            "lambda (Lambda)                 (None, 1)            0           flatten[0][0]                    \n",
            "                                                                 flatten_1[0][0]                  \n",
            "__________________________________________________________________________________________________\n",
            "subtract_1 (Subtract)           (None, 1920)         0           multiply_1[0][0]                 \n",
            "                                                                 multiply_2[0][0]                 \n",
            "__________________________________________________________________________________________________\n",
            "multiply (Multiply)             (None, 1920)         0           subtract[0][0]                   \n",
            "                                                                 subtract[0][0]                   \n",
            "__________________________________________________________________________________________________\n",
            "concatenate (Concatenate)       (None, 3841)         0           lambda[0][0]                     \n",
            "                                                                 subtract_1[0][0]                 \n",
            "                                                                 multiply[0][0]                   \n",
            "__________________________________________________________________________________________________\n",
            "conc_layer (Dense)              (None, 100)          384200      concatenate[0][0]                \n",
            "__________________________________________________________________________________________________\n",
            "dropout (Dropout)               (None, 100)          0           conc_layer[0][0]                 \n",
            "__________________________________________________________________________________________________\n",
            "out (Dense)                     (None, 1)            101         dropout[0][0]                    \n",
            "==================================================================================================\n",
            "Total params: 27,124,941\n",
            "Trainable params: 477,741\n",
            "Non-trainable params: 26,647,200\n",
            "__________________________________________________________________________________________________\n"
          ],
          "name": "stdout"
        }
      ]
    },
    {
      "cell_type": "code",
      "metadata": {
        "id": "qNvapkwNMi9K"
      },
      "source": [
        "number_of_pairs = len(q1_seq)\n",
        "\n",
        "q1_seq_val = q1_seq[int(0.8*number_of_pairs):number_of_pairs]\n",
        "q2_seq_val = q2_seq[int(0.8*number_of_pairs):number_of_pairs]\n",
        "y_val= df['is_duplicate'].iloc[int(0.8*number_of_pairs):number_of_pairs]\n",
        "\n",
        "q1_seq = q1_seq[:int(0.8*number_of_pairs)]\n",
        "q2_seq = q2_seq[:int(0.8*number_of_pairs)]\n",
        "y_train = df['is_duplicate'].iloc[:int(0.8*number_of_pairs)]"
      ],
      "execution_count": null,
      "outputs": []
    },
    {
      "cell_type": "code",
      "metadata": {
        "id": "lanQerIPLVrU"
      },
      "source": [
        "model.fit([q1_seq,q2_seq],y_train.values.reshape(-1,1), epochs = 5,batch_size=64, validation_data=( [q1_seq_val,q2_seq_val],y_val.values.reshape(-1,1) ) )"
      ],
      "execution_count": null,
      "outputs": []
    }
  ]
}